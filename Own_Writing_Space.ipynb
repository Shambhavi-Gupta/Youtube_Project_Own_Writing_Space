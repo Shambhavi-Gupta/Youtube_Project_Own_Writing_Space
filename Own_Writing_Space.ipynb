{
  "nbformat": 4,
  "nbformat_minor": 0,
  "metadata": {
    "colab": {
      "name": "Own_Writing_Space.ipynb",
      "provenance": [],
      "authorship_tag": "ABX9TyM/FVwV0haLb7WhLFv8fIwY",
      "include_colab_link": true
    },
    "kernelspec": {
      "name": "python3",
      "display_name": "Python 3"
    },
    "language_info": {
      "name": "python"
    }
  },
  "cells": [
    {
      "cell_type": "markdown",
      "metadata": {
        "id": "view-in-github",
        "colab_type": "text"
      },
      "source": [
        "<a href=\"https://colab.research.google.com/github/Shambhavi-Gupta/Youtube_Project_Own_Writing_Space/blob/main/Own_Writing_Space.ipynb\" target=\"_parent\"><img src=\"https://colab.research.google.com/assets/colab-badge.svg\" alt=\"Open In Colab\"/></a>"
      ]
    },
    {
      "cell_type": "code",
      "metadata": {
        "id": "TLtFzKybX9N5"
      },
      "source": [
        "import tkinter as tk\n",
        "from tkinter.filedialog import askopenfilename , asksaveasfilename\n",
        "\n",
        "def open_file():\n",
        "\tfilepath = askopenfilename(\n",
        "\t\tfiletypes=[(\"Text files\", \"*.txt\"), (\"All files\", \"*.*\")])\n",
        "\tif not filepath:\n",
        "\t\treturn\n",
        "\ttext_edit.delete(1.0,tk.END)\n",
        "\twith open(filepath, \"r\") as input_file:\n",
        "\t\ttext = input_file.read()\n",
        "\t\ttext_edit.insert(tk.END, text)\n",
        "\twindow.title(f\"My own Writing Space - {filepath}\")\n",
        "\n",
        "def save_file():\n",
        "\tfilepath = asksaveasfilename(\n",
        "\t\tdefaultextension=\"txt\",\n",
        "\t\tfiletypes=[(\"Text files\", \"*.txt\"), (\"All files\", \"*.*\")])\n",
        "\tif not filepath:\n",
        "\t\treturn\n",
        "\twith open(filepath,\"w\") as output_file:\n",
        "\t\ttext = text_edit.get(1.0, tk.END)\n",
        "\t\toutput_file.write(text)\n",
        "\twindow.title(f\"My own writing space - {filepath}\")\n",
        "\n",
        "window = tk.Tk()\n",
        "window.title(\"My Own Writing Space\")\n",
        "window.rowconfigure(0, minsize=800, weight=1)\n",
        "window.columnconfigure(1, minsize=800, weight=1)\n",
        "\n",
        "text_edit = tk.Text(window)\n",
        "fr_buttons = tk.Frame(window, relief=tk.RAISED, bd=2)\n",
        "button_open = tk.Button(fr_buttons, text=\"OPEN\", command=open_file)\n",
        "button_save = tk.Button(fr_buttons, text=\"SAVE AS ....\", command=save_file)\n",
        "\n",
        "button_open.grid(row=0, column=0, sticky=\"ew\", padx=5, pady=5)\n",
        "button_save.grid(row=1, column=0, sticky=\"ew\", padx=5)\n",
        "\n",
        "fr_buttons.grid(row=0, column=0, sticky=\"ns\")\n",
        "text_edit.grid(row=0, column=1,sticky=\"nsew\")\n",
        "\n",
        "window.mainloop()"
      ],
      "execution_count": null,
      "outputs": []
    }
  ]
}